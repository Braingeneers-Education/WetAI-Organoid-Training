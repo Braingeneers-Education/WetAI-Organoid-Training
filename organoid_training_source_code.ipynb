{
 "cells": [
  {
   "cell_type": "markdown",
   "metadata": {},
   "source": [
    "<font size=7 face=\"courier\">Organoid Training Source Code"
   ]
  },
  {
   "cell_type": "markdown",
   "metadata": {},
   "source": [
    "This is the code used to create the diagrams in the notebook, `Organoid_Training_Hypothesis.ipynb`."
   ]
  },
  {
   "cell_type": "code",
   "execution_count": 3,
   "metadata": {},
   "outputs": [
    {
     "name": "stdout",
     "output_type": "stream",
     "text": [
      "Loading: organoid_training_source_code.ipynb...\n"
     ]
    }
   ],
   "source": [
    "print(\"Loading: organoid_training_source_code.ipynb...\")"
   ]
  },
  {
   "cell_type": "markdown",
   "metadata": {},
   "source": [
    "# Set Up Notebook"
   ]
  },
  {
   "cell_type": "markdown",
   "metadata": {},
   "source": [
    "import stuff"
   ]
  },
  {
   "cell_type": "code",
   "execution_count": 4,
   "metadata": {},
   "outputs": [
    {
     "name": "stdout",
     "output_type": "stream",
     "text": [
      "Defaulting to user installation because normal site-packages is not writeable\n",
      "Requirement already satisfied: scipy in c:\\users\\ari sinervo\\appdata\\local\\packages\\pythonsoftwarefoundation.python.3.12_qbz5n2kfra8p0\\localcache\\local-packages\\python312\\site-packages (1.13.0)\n",
      "Requirement already satisfied: numpy<2.3,>=1.22.4 in c:\\users\\ari sinervo\\appdata\\local\\packages\\pythonsoftwarefoundation.python.3.12_qbz5n2kfra8p0\\localcache\\local-packages\\python312\\site-packages (from scipy) (1.26.4)\n"
     ]
    }
   ],
   "source": [
    "!pip install scipy"
   ]
  },
  {
   "cell_type": "code",
   "execution_count": 6,
   "metadata": {},
   "outputs": [
    {
     "name": "stdout",
     "output_type": "stream",
     "text": [
      "Defaulting to user installation because normal site-packages is not writeable\n",
      "Requirement already satisfied: powerlaw in c:\\users\\ari sinervo\\appdata\\local\\packages\\pythonsoftwarefoundation.python.3.12_qbz5n2kfra8p0\\localcache\\local-packages\\python312\\site-packages (1.5)\n",
      "Requirement already satisfied: scipy in c:\\users\\ari sinervo\\appdata\\local\\packages\\pythonsoftwarefoundation.python.3.12_qbz5n2kfra8p0\\localcache\\local-packages\\python312\\site-packages (from powerlaw) (1.13.0)\n",
      "Requirement already satisfied: numpy in c:\\users\\ari sinervo\\appdata\\local\\packages\\pythonsoftwarefoundation.python.3.12_qbz5n2kfra8p0\\localcache\\local-packages\\python312\\site-packages (from powerlaw) (1.26.4)\n",
      "Requirement already satisfied: matplotlib in c:\\users\\ari sinervo\\appdata\\local\\packages\\pythonsoftwarefoundation.python.3.12_qbz5n2kfra8p0\\localcache\\local-packages\\python312\\site-packages (from powerlaw) (3.9.0)\n",
      "Requirement already satisfied: mpmath in c:\\users\\ari sinervo\\appdata\\local\\packages\\pythonsoftwarefoundation.python.3.12_qbz5n2kfra8p0\\localcache\\local-packages\\python312\\site-packages (from powerlaw) (1.3.0)\n",
      "Requirement already satisfied: contourpy>=1.0.1 in c:\\users\\ari sinervo\\appdata\\local\\packages\\pythonsoftwarefoundation.python.3.12_qbz5n2kfra8p0\\localcache\\local-packages\\python312\\site-packages (from matplotlib->powerlaw) (1.2.1)\n",
      "Requirement already satisfied: cycler>=0.10 in c:\\users\\ari sinervo\\appdata\\local\\packages\\pythonsoftwarefoundation.python.3.12_qbz5n2kfra8p0\\localcache\\local-packages\\python312\\site-packages (from matplotlib->powerlaw) (0.12.1)\n",
      "Requirement already satisfied: fonttools>=4.22.0 in c:\\users\\ari sinervo\\appdata\\local\\packages\\pythonsoftwarefoundation.python.3.12_qbz5n2kfra8p0\\localcache\\local-packages\\python312\\site-packages (from matplotlib->powerlaw) (4.51.0)\n",
      "Requirement already satisfied: kiwisolver>=1.3.1 in c:\\users\\ari sinervo\\appdata\\local\\packages\\pythonsoftwarefoundation.python.3.12_qbz5n2kfra8p0\\localcache\\local-packages\\python312\\site-packages (from matplotlib->powerlaw) (1.4.5)\n",
      "Requirement already satisfied: packaging>=20.0 in c:\\users\\ari sinervo\\appdata\\local\\packages\\pythonsoftwarefoundation.python.3.12_qbz5n2kfra8p0\\localcache\\local-packages\\python312\\site-packages (from matplotlib->powerlaw) (24.0)\n",
      "Requirement already satisfied: pillow>=8 in c:\\users\\ari sinervo\\appdata\\local\\packages\\pythonsoftwarefoundation.python.3.12_qbz5n2kfra8p0\\localcache\\local-packages\\python312\\site-packages (from matplotlib->powerlaw) (10.3.0)\n",
      "Requirement already satisfied: pyparsing>=2.3.1 in c:\\users\\ari sinervo\\appdata\\local\\packages\\pythonsoftwarefoundation.python.3.12_qbz5n2kfra8p0\\localcache\\local-packages\\python312\\site-packages (from matplotlib->powerlaw) (3.1.2)\n",
      "Requirement already satisfied: python-dateutil>=2.7 in c:\\users\\ari sinervo\\appdata\\local\\packages\\pythonsoftwarefoundation.python.3.12_qbz5n2kfra8p0\\localcache\\local-packages\\python312\\site-packages (from matplotlib->powerlaw) (2.9.0.post0)\n",
      "Requirement already satisfied: six>=1.5 in c:\\users\\ari sinervo\\appdata\\local\\packages\\pythonsoftwarefoundation.python.3.12_qbz5n2kfra8p0\\localcache\\local-packages\\python312\\site-packages (from python-dateutil>=2.7->matplotlib->powerlaw) (1.16.0)\n",
      "Defaulting to user installation because normal site-packages is not writeable\n",
      "Requirement already satisfied: smart_open in c:\\users\\ari sinervo\\appdata\\local\\packages\\pythonsoftwarefoundation.python.3.12_qbz5n2kfra8p0\\localcache\\local-packages\\python312\\site-packages (7.0.4)\n",
      "Requirement already satisfied: wrapt in c:\\users\\ari sinervo\\appdata\\local\\packages\\pythonsoftwarefoundation.python.3.12_qbz5n2kfra8p0\\localcache\\local-packages\\python312\\site-packages (from smart_open) (1.16.0)\n",
      "Defaulting to user installation because normal site-packages is not writeable\n",
      "Requirement already satisfied: awswrangler in c:\\users\\ari sinervo\\appdata\\local\\packages\\pythonsoftwarefoundation.python.3.12_qbz5n2kfra8p0\\localcache\\local-packages\\python312\\site-packages (3.7.3)\n",
      "Requirement already satisfied: boto3<2.0.0,>=1.20.32 in c:\\users\\ari sinervo\\appdata\\local\\packages\\pythonsoftwarefoundation.python.3.12_qbz5n2kfra8p0\\localcache\\local-packages\\python312\\site-packages (from awswrangler) (1.34.107)\n",
      "Requirement already satisfied: botocore<2.0.0,>=1.23.32 in c:\\users\\ari sinervo\\appdata\\local\\packages\\pythonsoftwarefoundation.python.3.12_qbz5n2kfra8p0\\localcache\\local-packages\\python312\\site-packages (from awswrangler) (1.34.107)\n",
      "Requirement already satisfied: numpy<2.0,>=1.26 in c:\\users\\ari sinervo\\appdata\\local\\packages\\pythonsoftwarefoundation.python.3.12_qbz5n2kfra8p0\\localcache\\local-packages\\python312\\site-packages (from awswrangler) (1.26.4)\n",
      "Requirement already satisfied: packaging<25.0,>=21.1 in c:\\users\\ari sinervo\\appdata\\local\\packages\\pythonsoftwarefoundation.python.3.12_qbz5n2kfra8p0\\localcache\\local-packages\\python312\\site-packages (from awswrangler) (24.0)\n",
      "Requirement already satisfied: pandas<3.0.0,>=1.2.0 in c:\\users\\ari sinervo\\appdata\\local\\packages\\pythonsoftwarefoundation.python.3.12_qbz5n2kfra8p0\\localcache\\local-packages\\python312\\site-packages (from awswrangler) (2.2.2)\n",
      "Requirement already satisfied: pyarrow>=8.0.0 in c:\\users\\ari sinervo\\appdata\\local\\packages\\pythonsoftwarefoundation.python.3.12_qbz5n2kfra8p0\\localcache\\local-packages\\python312\\site-packages (from awswrangler) (16.1.0)\n",
      "Requirement already satisfied: setuptools in c:\\users\\ari sinervo\\appdata\\local\\packages\\pythonsoftwarefoundation.python.3.12_qbz5n2kfra8p0\\localcache\\local-packages\\python312\\site-packages (from awswrangler) (69.5.1)\n",
      "Requirement already satisfied: typing-extensions<5.0.0,>=4.4.0 in c:\\users\\ari sinervo\\appdata\\local\\packages\\pythonsoftwarefoundation.python.3.12_qbz5n2kfra8p0\\localcache\\local-packages\\python312\\site-packages (from awswrangler) (4.11.0)\n",
      "Requirement already satisfied: jmespath<2.0.0,>=0.7.1 in c:\\users\\ari sinervo\\appdata\\local\\packages\\pythonsoftwarefoundation.python.3.12_qbz5n2kfra8p0\\localcache\\local-packages\\python312\\site-packages (from boto3<2.0.0,>=1.20.32->awswrangler) (1.0.1)\n",
      "Requirement already satisfied: s3transfer<0.11.0,>=0.10.0 in c:\\users\\ari sinervo\\appdata\\local\\packages\\pythonsoftwarefoundation.python.3.12_qbz5n2kfra8p0\\localcache\\local-packages\\python312\\site-packages (from boto3<2.0.0,>=1.20.32->awswrangler) (0.10.1)\n",
      "Requirement already satisfied: python-dateutil<3.0.0,>=2.1 in c:\\users\\ari sinervo\\appdata\\local\\packages\\pythonsoftwarefoundation.python.3.12_qbz5n2kfra8p0\\localcache\\local-packages\\python312\\site-packages (from botocore<2.0.0,>=1.23.32->awswrangler) (2.9.0.post0)\n",
      "Requirement already satisfied: urllib3!=2.2.0,<3,>=1.25.4 in c:\\users\\ari sinervo\\appdata\\local\\packages\\pythonsoftwarefoundation.python.3.12_qbz5n2kfra8p0\\localcache\\local-packages\\python312\\site-packages (from botocore<2.0.0,>=1.23.32->awswrangler) (2.2.1)\n",
      "Requirement already satisfied: pytz>=2020.1 in c:\\users\\ari sinervo\\appdata\\local\\packages\\pythonsoftwarefoundation.python.3.12_qbz5n2kfra8p0\\localcache\\local-packages\\python312\\site-packages (from pandas<3.0.0,>=1.2.0->awswrangler) (2024.1)\n",
      "Requirement already satisfied: tzdata>=2022.7 in c:\\users\\ari sinervo\\appdata\\local\\packages\\pythonsoftwarefoundation.python.3.12_qbz5n2kfra8p0\\localcache\\local-packages\\python312\\site-packages (from pandas<3.0.0,>=1.2.0->awswrangler) (2024.1)\n",
      "Requirement already satisfied: six>=1.5 in c:\\users\\ari sinervo\\appdata\\local\\packages\\pythonsoftwarefoundation.python.3.12_qbz5n2kfra8p0\\localcache\\local-packages\\python312\\site-packages (from python-dateutil<3.0.0,>=2.1->botocore<2.0.0,>=1.23.32->awswrangler) (1.16.0)\n",
      "Defaulting to user installation because normal site-packages is not writeable\n",
      "Requirement already satisfied: deprecated in c:\\users\\ari sinervo\\appdata\\local\\packages\\pythonsoftwarefoundation.python.3.12_qbz5n2kfra8p0\\localcache\\local-packages\\python312\\site-packages (1.2.14)\n",
      "Requirement already satisfied: wrapt<2,>=1.10 in c:\\users\\ari sinervo\\appdata\\local\\packages\\pythonsoftwarefoundation.python.3.12_qbz5n2kfra8p0\\localcache\\local-packages\\python312\\site-packages (from deprecated) (1.16.0)\n",
      "Defaulting to user installation because normal site-packages is not writeable\n",
      "Requirement already satisfied: nptyping in c:\\users\\ari sinervo\\appdata\\local\\packages\\pythonsoftwarefoundation.python.3.12_qbz5n2kfra8p0\\localcache\\local-packages\\python312\\site-packages (2.5.0)\n",
      "Requirement already satisfied: numpy<2.0.0,>=1.20.0 in c:\\users\\ari sinervo\\appdata\\local\\packages\\pythonsoftwarefoundation.python.3.12_qbz5n2kfra8p0\\localcache\\local-packages\\python312\\site-packages (from nptyping) (1.26.4)\n",
      "Defaulting to user installation because normal site-packages is not writeable\n",
      "Requirement already satisfied: braingeneers in c:\\users\\ari sinervo\\appdata\\local\\packages\\pythonsoftwarefoundation.python.3.12_qbz5n2kfra8p0\\localcache\\local-packages\\python312\\site-packages (0.2.0)\n",
      "Requirement already satisfied: awswrangler==3.* in c:\\users\\ari sinervo\\appdata\\local\\packages\\pythonsoftwarefoundation.python.3.12_qbz5n2kfra8p0\\localcache\\local-packages\\python312\\site-packages (from braingeneers) (3.7.3)\n",
      "Requirement already satisfied: boto3 in c:\\users\\ari sinervo\\appdata\\local\\packages\\pythonsoftwarefoundation.python.3.12_qbz5n2kfra8p0\\localcache\\local-packages\\python312\\site-packages (from braingeneers) (1.34.107)\n",
      "Requirement already satisfied: braingeneers-smart-open==2023.10.6 in c:\\users\\ari sinervo\\appdata\\local\\packages\\pythonsoftwarefoundation.python.3.12_qbz5n2kfra8p0\\localcache\\local-packages\\python312\\site-packages (from braingeneers) (2023.10.6)\n",
      "Requirement already satisfied: deprecated in c:\\users\\ari sinervo\\appdata\\local\\packages\\pythonsoftwarefoundation.python.3.12_qbz5n2kfra8p0\\localcache\\local-packages\\python312\\site-packages (from braingeneers) (1.2.14)\n",
      "Requirement already satisfied: diskcache in c:\\users\\ari sinervo\\appdata\\local\\packages\\pythonsoftwarefoundation.python.3.12_qbz5n2kfra8p0\\localcache\\local-packages\\python312\\site-packages (from braingeneers) (5.6.3)\n",
      "Requirement already satisfied: h5py in c:\\users\\ari sinervo\\appdata\\local\\packages\\pythonsoftwarefoundation.python.3.12_qbz5n2kfra8p0\\localcache\\local-packages\\python312\\site-packages (from braingeneers) (3.11.0)\n",
      "Requirement already satisfied: matplotlib in c:\\users\\ari sinervo\\appdata\\local\\packages\\pythonsoftwarefoundation.python.3.12_qbz5n2kfra8p0\\localcache\\local-packages\\python312\\site-packages (from braingeneers) (3.9.0)\n",
      "Requirement already satisfied: nptyping in c:\\users\\ari sinervo\\appdata\\local\\packages\\pythonsoftwarefoundation.python.3.12_qbz5n2kfra8p0\\localcache\\local-packages\\python312\\site-packages (from braingeneers) (2.5.0)\n",
      "Requirement already satisfied: numpy in c:\\users\\ari sinervo\\appdata\\local\\packages\\pythonsoftwarefoundation.python.3.12_qbz5n2kfra8p0\\localcache\\local-packages\\python312\\site-packages (from braingeneers) (1.26.4)\n",
      "Requirement already satisfied: paho-mqtt>=2 in c:\\users\\ari sinervo\\appdata\\local\\packages\\pythonsoftwarefoundation.python.3.12_qbz5n2kfra8p0\\localcache\\local-packages\\python312\\site-packages (from braingeneers) (2.1.0)\n",
      "Requirement already satisfied: pandas in c:\\users\\ari sinervo\\appdata\\local\\packages\\pythonsoftwarefoundation.python.3.12_qbz5n2kfra8p0\\localcache\\local-packages\\python312\\site-packages (from braingeneers) (2.2.2)\n",
      "Requirement already satisfied: powerlaw in c:\\users\\ari sinervo\\appdata\\local\\packages\\pythonsoftwarefoundation.python.3.12_qbz5n2kfra8p0\\localcache\\local-packages\\python312\\site-packages (from braingeneers) (1.5)\n",
      "Requirement already satisfied: pytz in c:\\users\\ari sinervo\\appdata\\local\\packages\\pythonsoftwarefoundation.python.3.12_qbz5n2kfra8p0\\localcache\\local-packages\\python312\\site-packages (from braingeneers) (2024.1)\n",
      "Requirement already satisfied: redis in c:\\users\\ari sinervo\\appdata\\local\\packages\\pythonsoftwarefoundation.python.3.12_qbz5n2kfra8p0\\localcache\\local-packages\\python312\\site-packages (from braingeneers) (5.0.4)\n",
      "Requirement already satisfied: requests in c:\\users\\ari sinervo\\appdata\\local\\packages\\pythonsoftwarefoundation.python.3.12_qbz5n2kfra8p0\\localcache\\local-packages\\python312\\site-packages (from braingeneers) (2.31.0)\n",
      "Requirement already satisfied: schedule in c:\\users\\ari sinervo\\appdata\\local\\packages\\pythonsoftwarefoundation.python.3.12_qbz5n2kfra8p0\\localcache\\local-packages\\python312\\site-packages (from braingeneers) (1.2.1)\n",
      "Requirement already satisfied: scipy>=1.10.0 in c:\\users\\ari sinervo\\appdata\\local\\packages\\pythonsoftwarefoundation.python.3.12_qbz5n2kfra8p0\\localcache\\local-packages\\python312\\site-packages (from braingeneers) (1.13.0)\n",
      "Requirement already satisfied: tenacity in c:\\users\\ari sinervo\\appdata\\local\\packages\\pythonsoftwarefoundation.python.3.12_qbz5n2kfra8p0\\localcache\\local-packages\\python312\\site-packages (from braingeneers) (8.3.0)\n",
      "Requirement already satisfied: tzlocal in c:\\users\\ari sinervo\\appdata\\local\\packages\\pythonsoftwarefoundation.python.3.12_qbz5n2kfra8p0\\localcache\\local-packages\\python312\\site-packages (from braingeneers) (5.2)\n",
      "Requirement already satisfied: botocore<2.0.0,>=1.23.32 in c:\\users\\ari sinervo\\appdata\\local\\packages\\pythonsoftwarefoundation.python.3.12_qbz5n2kfra8p0\\localcache\\local-packages\\python312\\site-packages (from awswrangler==3.*->braingeneers) (1.34.107)\n",
      "Requirement already satisfied: packaging<25.0,>=21.1 in c:\\users\\ari sinervo\\appdata\\local\\packages\\pythonsoftwarefoundation.python.3.12_qbz5n2kfra8p0\\localcache\\local-packages\\python312\\site-packages (from awswrangler==3.*->braingeneers) (24.0)\n",
      "Requirement already satisfied: pyarrow>=8.0.0 in c:\\users\\ari sinervo\\appdata\\local\\packages\\pythonsoftwarefoundation.python.3.12_qbz5n2kfra8p0\\localcache\\local-packages\\python312\\site-packages (from awswrangler==3.*->braingeneers) (16.1.0)\n",
      "Requirement already satisfied: setuptools in c:\\users\\ari sinervo\\appdata\\local\\packages\\pythonsoftwarefoundation.python.3.12_qbz5n2kfra8p0\\localcache\\local-packages\\python312\\site-packages (from awswrangler==3.*->braingeneers) (69.5.1)\n",
      "Requirement already satisfied: typing-extensions<5.0.0,>=4.4.0 in c:\\users\\ari sinervo\\appdata\\local\\packages\\pythonsoftwarefoundation.python.3.12_qbz5n2kfra8p0\\localcache\\local-packages\\python312\\site-packages (from awswrangler==3.*->braingeneers) (4.11.0)\n",
      "Requirement already satisfied: jmespath<2.0.0,>=0.7.1 in c:\\users\\ari sinervo\\appdata\\local\\packages\\pythonsoftwarefoundation.python.3.12_qbz5n2kfra8p0\\localcache\\local-packages\\python312\\site-packages (from boto3->braingeneers) (1.0.1)\n",
      "Requirement already satisfied: s3transfer<0.11.0,>=0.10.0 in c:\\users\\ari sinervo\\appdata\\local\\packages\\pythonsoftwarefoundation.python.3.12_qbz5n2kfra8p0\\localcache\\local-packages\\python312\\site-packages (from boto3->braingeneers) (0.10.1)\n",
      "Requirement already satisfied: python-dateutil>=2.8.2 in c:\\users\\ari sinervo\\appdata\\local\\packages\\pythonsoftwarefoundation.python.3.12_qbz5n2kfra8p0\\localcache\\local-packages\\python312\\site-packages (from pandas->braingeneers) (2.9.0.post0)\n",
      "Requirement already satisfied: tzdata>=2022.7 in c:\\users\\ari sinervo\\appdata\\local\\packages\\pythonsoftwarefoundation.python.3.12_qbz5n2kfra8p0\\localcache\\local-packages\\python312\\site-packages (from pandas->braingeneers) (2024.1)\n",
      "Requirement already satisfied: wrapt<2,>=1.10 in c:\\users\\ari sinervo\\appdata\\local\\packages\\pythonsoftwarefoundation.python.3.12_qbz5n2kfra8p0\\localcache\\local-packages\\python312\\site-packages (from deprecated->braingeneers) (1.16.0)\n",
      "Requirement already satisfied: contourpy>=1.0.1 in c:\\users\\ari sinervo\\appdata\\local\\packages\\pythonsoftwarefoundation.python.3.12_qbz5n2kfra8p0\\localcache\\local-packages\\python312\\site-packages (from matplotlib->braingeneers) (1.2.1)\n",
      "Requirement already satisfied: cycler>=0.10 in c:\\users\\ari sinervo\\appdata\\local\\packages\\pythonsoftwarefoundation.python.3.12_qbz5n2kfra8p0\\localcache\\local-packages\\python312\\site-packages (from matplotlib->braingeneers) (0.12.1)\n",
      "Requirement already satisfied: fonttools>=4.22.0 in c:\\users\\ari sinervo\\appdata\\local\\packages\\pythonsoftwarefoundation.python.3.12_qbz5n2kfra8p0\\localcache\\local-packages\\python312\\site-packages (from matplotlib->braingeneers) (4.51.0)\n",
      "Requirement already satisfied: kiwisolver>=1.3.1 in c:\\users\\ari sinervo\\appdata\\local\\packages\\pythonsoftwarefoundation.python.3.12_qbz5n2kfra8p0\\localcache\\local-packages\\python312\\site-packages (from matplotlib->braingeneers) (1.4.5)\n",
      "Requirement already satisfied: pillow>=8 in c:\\users\\ari sinervo\\appdata\\local\\packages\\pythonsoftwarefoundation.python.3.12_qbz5n2kfra8p0\\localcache\\local-packages\\python312\\site-packages (from matplotlib->braingeneers) (10.3.0)\n",
      "Requirement already satisfied: pyparsing>=2.3.1 in c:\\users\\ari sinervo\\appdata\\local\\packages\\pythonsoftwarefoundation.python.3.12_qbz5n2kfra8p0\\localcache\\local-packages\\python312\\site-packages (from matplotlib->braingeneers) (3.1.2)\n",
      "Requirement already satisfied: mpmath in c:\\users\\ari sinervo\\appdata\\local\\packages\\pythonsoftwarefoundation.python.3.12_qbz5n2kfra8p0\\localcache\\local-packages\\python312\\site-packages (from powerlaw->braingeneers) (1.3.0)\n",
      "Requirement already satisfied: charset-normalizer<4,>=2 in c:\\users\\ari sinervo\\appdata\\local\\packages\\pythonsoftwarefoundation.python.3.12_qbz5n2kfra8p0\\localcache\\local-packages\\python312\\site-packages (from requests->braingeneers) (3.3.2)\n",
      "Requirement already satisfied: idna<4,>=2.5 in c:\\users\\ari sinervo\\appdata\\local\\packages\\pythonsoftwarefoundation.python.3.12_qbz5n2kfra8p0\\localcache\\local-packages\\python312\\site-packages (from requests->braingeneers) (3.7)\n",
      "Requirement already satisfied: urllib3<3,>=1.21.1 in c:\\users\\ari sinervo\\appdata\\local\\packages\\pythonsoftwarefoundation.python.3.12_qbz5n2kfra8p0\\localcache\\local-packages\\python312\\site-packages (from requests->braingeneers) (2.2.1)\n",
      "Requirement already satisfied: certifi>=2017.4.17 in c:\\users\\ari sinervo\\appdata\\local\\packages\\pythonsoftwarefoundation.python.3.12_qbz5n2kfra8p0\\localcache\\local-packages\\python312\\site-packages (from requests->braingeneers) (2024.2.2)\n",
      "Requirement already satisfied: six>=1.5 in c:\\users\\ari sinervo\\appdata\\local\\packages\\pythonsoftwarefoundation.python.3.12_qbz5n2kfra8p0\\localcache\\local-packages\\python312\\site-packages (from python-dateutil>=2.8.2->pandas->braingeneers) (1.16.0)\n"
     ]
    }
   ],
   "source": [
    "!pip install powerlaw\n",
    "\n",
    "!pip install smart_open\n",
    "!pip install awswrangler\n",
    "!pip install deprecated\n",
    "!pip install nptyping\n",
    "\n",
    "!pip install braingeneers\n"
   ]
  },
  {
   "cell_type": "markdown",
   "metadata": {},
   "source": [
    "Import Packages"
   ]
  },
  {
   "cell_type": "code",
   "execution_count": 10,
   "metadata": {},
   "outputs": [],
   "source": [
    "from food_land import FoodLandEnv\n",
    "import numpy as np\n",
    "import csv\n",
    "import sys\n",
    "import time\n",
    "import pygame\n",
    "import pandas as pd\n",
    "import matplotlib.pyplot as plt"
   ]
  },
  {
   "cell_type": "code",
   "execution_count": 11,
   "metadata": {},
   "outputs": [
    {
     "name": "stdout",
     "output_type": "stream",
     "text": [
      "['c:\\\\Users\\\\Ari Sinervo\\\\AppData\\\\Local\\\\Programs\\\\Python\\\\Python311\\\\python311.zip', 'c:\\\\Users\\\\Ari Sinervo\\\\AppData\\\\Local\\\\Programs\\\\Python\\\\Python311\\\\DLLs', 'c:\\\\Users\\\\Ari Sinervo\\\\AppData\\\\Local\\\\Programs\\\\Python\\\\Python311\\\\Lib', 'c:\\\\Users\\\\Ari Sinervo\\\\AppData\\\\Local\\\\Programs\\\\Python\\\\Python311', '', 'C:\\\\Users\\\\Ari Sinervo\\\\AppData\\\\Roaming\\\\Python\\\\Python311\\\\site-packages', 'C:\\\\Users\\\\Ari Sinervo\\\\AppData\\\\Roaming\\\\Python\\\\Python311\\\\site-packages\\\\win32', 'C:\\\\Users\\\\Ari Sinervo\\\\AppData\\\\Roaming\\\\Python\\\\Python311\\\\site-packages\\\\win32\\\\lib', 'C:\\\\Users\\\\Ari Sinervo\\\\AppData\\\\Roaming\\\\Python\\\\Python311\\\\site-packages\\\\Pythonwin', 'c:\\\\Users\\\\Ari Sinervo\\\\AppData\\\\Local\\\\Programs\\\\Python\\\\Python311\\\\Lib\\\\site-packages']\n"
     ]
    }
   ],
   "source": [
    "print(sys.path)"
   ]
  },
  {
   "cell_type": "code",
   "execution_count": 1,
   "metadata": {},
   "outputs": [
    {
     "ename": "ModuleNotFoundError",
     "evalue": "No module named 'braingeneers'",
     "output_type": "error",
     "traceback": [
      "\u001b[1;31m---------------------------------------------------------------------------\u001b[0m",
      "\u001b[1;31mModuleNotFoundError\u001b[0m                       Traceback (most recent call last)",
      "Cell \u001b[1;32mIn[1], line 2\u001b[0m\n\u001b[0;32m      1\u001b[0m \u001b[38;5;28;01mimport\u001b[39;00m \u001b[38;5;21;01mpytz\u001b[39;00m\n\u001b[1;32m----> 2\u001b[0m \u001b[38;5;28;01mimport\u001b[39;00m \u001b[38;5;21;01mbraingeneers\u001b[39;00m\n\u001b[0;32m      4\u001b[0m \u001b[38;5;28;01mfrom\u001b[39;00m \u001b[38;5;21;01mbraingeneers\u001b[39;00m\u001b[38;5;21;01m.\u001b[39;00m\u001b[38;5;21;01manalysis\u001b[39;00m\u001b[38;5;21;01m.\u001b[39;00m\u001b[38;5;21;01manalysis\u001b[39;00m \u001b[38;5;28;01mimport\u001b[39;00m SpikeData, read_phy_files\n\u001b[0;32m      5\u001b[0m \u001b[38;5;28;01mfrom\u001b[39;00m \u001b[38;5;21;01mbraingeneers\u001b[39;00m\u001b[38;5;21;01m.\u001b[39;00m\u001b[38;5;21;01manalysis\u001b[39;00m \u001b[38;5;28;01mimport\u001b[39;00m load_spike_data\n",
      "\u001b[1;31mModuleNotFoundError\u001b[0m: No module named 'braingeneers'"
     ]
    }
   ],
   "source": [
    "import pytz\n",
    "import braingeneers\n",
    "\n",
    "from braingeneers.analysis.analysis import SpikeData, read_phy_files\n",
    "from braingeneers.analysis import load_spike_data\n",
    "import scipy.io as sio\n",
    "import scipy\n",
    "from scipy.ndimage import gaussian_filter1d\n",
    "import glob\n",
    "from ipywidgets import interact, interactive, fixed, interact_manual\n",
    "import random\n",
    "#import matplotlib.patches as mpatches"
   ]
  },
  {
   "cell_type": "code",
   "execution_count": null,
   "metadata": {},
   "outputs": [],
   "source": []
  },
  {
   "cell_type": "code",
   "execution_count": 5,
   "metadata": {},
   "outputs": [],
   "source": [
    "Timezone = pytz.timezone(\"America/Los_Angeles\")"
   ]
  },
  {
   "cell_type": "markdown",
   "metadata": {},
   "source": [
    "# Organoid Training Functions"
   ]
  },
  {
   "cell_type": "code",
   "execution_count": null,
   "metadata": {},
   "outputs": [],
   "source": [
    "def compute_smart_action(observation):\n",
    "    \"\"\"Current observation is:\n",
    "    >>> observation = np.array([self.food_signal, self.spike_signal,\n",
    "                         self.agent_pos[0], self.agent_pos[1],\n",
    "                         self.agent_dir], dtype=np.float32)\n",
    "\n",
    "    Food signal acts as a \"smell\" signal, same with spike signal.\n",
    "    We want to move towards food and avoid spikes (if spikes are used)\n",
    "    \n",
    "    Lets move fast if food signal is small, and turn fast if food signal is large.\n",
    "    \n",
    "    Actions are:\n",
    "        action[0] is within [-1, 1], turning speed (CCW to CW)\n",
    "        action[1] is within [0, 1], moving speed (stop to forwards)\n",
    "    \"\"\"\n",
    "    food_signal = observation[0]\n",
    "    spike_signal = observation[1]\n",
    "    action = np.zeros(2, dtype=np.float32)\n",
    "    \n",
    "    \n",
    "    # Food is close, turn to exploit\n",
    "    if food_signal > 0.1:\n",
    "        action[0] = np.random.uniform(-1, 1)\n",
    "        action[1] = np.random.uniform(.1, .5)\n",
    "        # print(\"Close  \", action)\n",
    "\n",
    "    # Move fast/explore far\n",
    "    else:\n",
    "        action[0] = np.random.uniform(-.3, .3)\n",
    "        action[1] = np.random.uniform(0, 1)\n",
    "        # print(\"Far\", action)\n",
    "        \n",
    "    return action"
   ]
  },
  {
   "cell_type": "code",
   "execution_count": null,
   "metadata": {},
   "outputs": [],
   "source": [
    "def action_analysis(env):\n",
    "    observations = []\n",
    "    cur_reward = 0\n",
    "    rewards = []\n",
    "    action = np.zeros(2, dtype=np.float32)\n",
    "    n_steps = 10000\n",
    "\n",
    "    step = 1\n",
    "    trial_num = 0\n",
    "    trial_complete = False\n",
    "    \n",
    "    observation = env.reset()\n",
    "\n",
    "    \n",
    "\n",
    "    while not trial_complete:\n",
    "        # No action\n",
    "        # action = np.zeros(2, dtype=np.float32)\n",
    "        # Random action\n",
    "        # action = np.random.uniform(-1, 1, 2)\n",
    "        # Smart action\n",
    "        action = compute_smart_action(observation)\n",
    "\n",
    "\n",
    "\n",
    "        observation, reward, done, info = env.step(action)\n",
    "        observations.append(observation)\n",
    "        cur_reward += reward\n",
    "\n",
    "        env.render()\n",
    "\n",
    "        if done :\n",
    "            rewards.append(cur_reward)\n",
    "            # print(f\"Trial {trial_num}: Step {step} === Episode finished. Reward: {cur_reward}\")\n",
    "            # print(\"All rewards:\", rewards)\n",
    "\n",
    "            if step >= n_steps:\n",
    "                trial_complete = True\n",
    "                break\n",
    "            cur_reward = 0\n",
    "            env.reset()\n",
    "            trial_num += 1\n",
    "\n",
    "\n",
    "        step += 1\n",
    "\n",
    "\n",
    "    observations = np.array(observations).T\n",
    "\n",
    "    fig, ax = plt.subplots(3, 1, figsize=(15, 15))\n",
    "    ax[0].plot(rewards)\n",
    "    ax[0].set_xlabel('Episode')\n",
    "    ax[0].set_ylabel('Reward')\n",
    "    ax[0].set_title('Reward per Episode')\n",
    "\n",
    "    ax[1].plot(observations[2], observations[3])\n",
    "    ax[1].set_xlabel('x')\n",
    "    ax[1].set_ylabel('y')\n",
    "    ax[1].set_title('Agent Position')\n",
    "\n",
    "    ax[2].plot(observations[0], label='Food Signal')\n",
    "    ax[2].plot(observations[4], label='Agent Direction')\n",
    "    ax[2].set_xlabel('Step')\n",
    "    ax[2].set_ylabel('Signal')\n",
    "    ax[2].set_title('Food Signal and Agent Direction')\n",
    "    ax[2].legend()\n",
    "\n",
    "\n",
    "\n",
    "\n",
    "    plt.show()\n",
    "    return trial_num"
   ]
  },
  {
   "cell_type": "code",
   "execution_count": null,
   "metadata": {},
   "outputs": [],
   "source": [
    "def plot_CC(organoid):\n",
    "    cc = organoid.get_dummy_causal_connectivity() # get our causal connectivity matrix\n",
    "    plt.imshow(cc, cmap='Greens')\n",
    "    plt.colorbar()\n",
    "    # X and y ticks\n",
    "    plt.xticks(np.arange(organoid.N), labels=organoid.neuron_labels, rotation=45)\n",
    "    plt.yticks(np.arange(organoid.N), labels=organoid.neuron_labels)\n",
    "    plt.title('Causal Connectivity Matrix')"
   ]
  },
  {
   "cell_type": "code",
   "execution_count": null,
   "metadata": {},
   "outputs": [],
   "source": [
    "def plot_spike_count(organoid):\n",
    "    organoid.get_fake_motor_spikes()\n",
    "\n",
    "    # Gather 100\n",
    "    spikes = []\n",
    "    for i in range(100):\n",
    "        spikes.append(organoid.get_fake_motor_spikes())\n",
    "\n",
    "    spikes = np.array(spikes)\n",
    "    # plot\n",
    "    plt.plot(spikes)\n",
    "    plt.xlabel('Time')\n",
    "    plt.ylabel('Spike Count')\n",
    "    plt.title('Motor Neuron Spike Count over Time')\n",
    "    plt.legend(organoid.neuron_labels)"
   ]
  },
  {
   "cell_type": "markdown",
   "metadata": {},
   "source": [
    "# Toy interface class"
   ]
  },
  {
   "cell_type": "markdown",
   "metadata": {},
   "source": [
    "Fake organoid interface class to help with testing, nearly identitical to how an actual organoid would take inputs/give outputs"
   ]
  },
  {
   "cell_type": "code",
   "execution_count": null,
   "metadata": {},
   "outputs": [
    {
     "data": {
      "text/plain": [
       "array([[-0.09839169,  0.81208672,  0.35975523],\n",
       "       [-0.83590186,  0.33120358,  0.95392866],\n",
       "       [-0.52680457, -0.47218574, -0.27202861],\n",
       "       [ 0.51050397,  0.24156248,  0.03099438],\n",
       "       [ 0.59323791, -0.29104668, -0.37022287]])"
      ]
     },
     "metadata": {},
     "output_type": "display_data"
    }
   ],
   "source": [
    "q = np.random.uniform(-1, 1, (100,3))\n",
    "q[:5]"
   ]
  },
  {
   "cell_type": "code",
   "execution_count": null,
   "metadata": {},
   "outputs": [],
   "source": [
    "# Fake class to test the method\n",
    "class OrganoidInterface:\n",
    "    def __init__(self, game_env, verbose=False, test_file_name='test', n_episodes=10):\n",
    "\n",
    "        class DummyEnv:\n",
    "            def __init__(self):\n",
    "                self.save_file = None\n",
    "                self.reset = lambda : None\n",
    "                # self.step = lambda a, b,c : return None, None, None, None\n",
    "                # step function takes in 2 arguments, action and tag, and returns obs, done\n",
    "                self.step = lambda action=None, tag=None : (None, None)\n",
    "\n",
    "        self.game_env = game_env\n",
    "        # Env is dummy for now\n",
    "        self.env = DummyEnv() # Dummy maxwell interface environment\n",
    "\n",
    "        self.save_file = test_file_name\n",
    "        self.sensory_neurons = np.arange(3,10) # Max 10 sensory neurons to stimulate\n",
    "        self.sensory_stim_Hz = np.zeros(len(self.sensory_neurons)) # Rate of stimulation\n",
    "\n",
    "        self.training_neurons = np.arange(5,12) # Max 10 training neurons to stimulate\n",
    "\n",
    "        self.motor_neurons = np.arange(3)# Indices of motor neurons\n",
    "        self.motor_spike_count = np.zeros(len(self.motor_neurons)) # Stores the spike count for each motor neuron\n",
    "        self.motor_spike_rate = np.zeros(len(self.motor_neurons)) # Stores the spike rate for each motor neuron\n",
    "\n",
    "        self.verbose = verbose\n",
    "\n",
    "\n",
    "        self.fake_spikes = np.random.uniform(0, 1, (1000,3))\n",
    "        self.fake_spikes[self.fake_spikes < 0.9] = 0\n",
    "        self.fake_spikes[self.fake_spikes > 0] = 1\n",
    "        self.state = 'read'\n",
    "\n",
    "        self.read_period_ms = 200 # Time between simulation steps\n",
    "        self.train_period_ms = 200 # Time to give training signal\n",
    "        self.wait_period_ms = 1000 # Time to wait after training\n",
    "\n",
    "        self.rewards = []\n",
    "        self.episode = 0\n",
    "        self.n_episodes = n_episodes\n",
    "        self.max_time = 1000\n",
    "\n",
    "        # Set connectivity matrix\n",
    "        self.connectivity = None\n",
    "        self.connectivity = self.get_dummy_causal_connectivity()\n",
    "\n",
    "        self.neuron_labels = []\n",
    "        for i in range(self.N):\n",
    "            cur_label = ''\n",
    "            if i in self.sensory_neurons:\n",
    "                cur_label += 'S'\n",
    "            if i in self.training_neurons:\n",
    "                cur_label += 'T'\n",
    "            if i in self.motor_neurons:\n",
    "                cur_label += 'M'\n",
    "            cur_label += str(i)\n",
    "            self.neuron_labels.append(cur_label)\n",
    "            \n",
    "\n",
    "        \n",
    "\n",
    "    def time_elapsed(self):\n",
    "        return time.perf_counter() - self.start_time\n",
    "\n",
    "    def run(self):\n",
    "        done = False\n",
    "        just_entered = True\n",
    "        total_reward = 0\n",
    "        do_training = True\n",
    "\n",
    "        # Loggers\n",
    "        # ---- Game log ----\n",
    "        game_log = open(self.save_file + '_game_log.csv','w')\n",
    "        # Header for csv\n",
    "        game_logger = csv.writer(game_log)\n",
    "        game_logger.writerow(['time','food_signal', 'spike_signal', 'agent_pos_x', 'agent_pos_y',\n",
    "                                'agent_dir', 'food_got', 'spike_hit', 'reward',\n",
    "                                              'episode', 'moving_speed', 'turning_speed'])\n",
    "    \n",
    "        # ---- Training log ----\n",
    "        train_log = open(self.save_file + '_train_log.csv','w')\n",
    "        # Header for csv\n",
    "        train_logger = csv.writer(train_log)\n",
    "        train_logger.writerow(['time','pattern','reward', 'episode'])\n",
    "\n",
    "\n",
    "        self.start_time = time.perf_counter()\n",
    "       \n",
    "        # ================== Main Loop ==================\n",
    "        while not done:\n",
    "            # ~~~~~~~~~~~~~~~~~~~ Read phase Logic ~~~~~~~~~~~~~~~~~~~\n",
    "            if self.state == 'read':\n",
    "                # ================== Enter read phase ==================\n",
    "                if just_entered:\n",
    "                    just_entered = False\n",
    "                    \n",
    "                # ================== Sensory stimulation logic ==================\n",
    "                if self.verbose:\n",
    "                    print(\"Stimming sensory neurons with\", self.sensory_stim_Hz)\n",
    "\n",
    "                # ================== Spike Read Logic ==================\n",
    "                self.motor_spike_count = self.get_fake_motor_spikes()\n",
    "\n",
    "             # ================== Exit read phase ==================\n",
    "             # This would happen after the read period is up\n",
    "                if self.verbose:\n",
    "                    print('Spike count: ', self.motor_spike_count, f'Rate {self.motor_spike_rate[0]:.2f} || {self.motor_spike_rate[1]:.2f}')\n",
    "                self.state = 'game'\n",
    "                just_entered = True\n",
    "                continue\n",
    "                    \n",
    "            # ~~~~~~~~~~~~~~~~~~~ Game phase Logic ~~~~~~~~~~~~~~~~~~~\n",
    "            elif self.state == 'game':\n",
    "                if just_entered:\n",
    "                    game_action = self.get_motor_signal()\n",
    "                    self.game_obs,reward,game_done,inf = self.game_env.step(game_action)\n",
    "                    \n",
    "                    total_reward += reward\n",
    "\n",
    "\n",
    "                    # Converting the game observation to sensory stimulation\n",
    "                    self.set_sensory_signal(self.game_obs)\n",
    "                    self.cause_fake_motor_spikes()\n",
    "\n",
    "                    # Log the game observation\n",
    "                    game_logger.writerow([time.time(), *self.game_obs, reward, self.episode, game_action[0], game_action[1]])\n",
    "\n",
    "                    # If game is done, go to train phase, else continue reading\n",
    "                    if game_done:\n",
    "                        self.state = 'train'\n",
    "                        just_entered = True\n",
    "                        continue\n",
    "                    else:\n",
    "                        self.state = 'read'\n",
    "                        just_entered = True\n",
    "                        continue\n",
    "\n",
    "            # ~~~~~~~~~~~~~~~~~~~ Train phase Logic ~~~~~~~~~~~~~~~~~~~\n",
    "            elif self.state == 'train':\n",
    "                # ================== Enter train phase ==================\n",
    "                if just_entered:\n",
    "                    just_entered = False\n",
    "                    self.rewards.append(total_reward)\n",
    "                    do_training = True # Train 100% of the time\n",
    "                   \n",
    "\n",
    "                    self.episode += 1\n",
    "                    if self.episode >= self.n_episodes:\n",
    "                        done = True\n",
    "                        return\n",
    "\n",
    "                    if self.verbose:\n",
    "                        print('Reward:', total_reward)\n",
    "                        print('All rewards:', self.rewards)\n",
    "                        print('-'*20)                        \n",
    "                    # ================== Set Training pulses ==================\n",
    "                    if do_training:\n",
    "                        # Get pattern/updategit \n",
    "                        train_pulse, train_freq = self.get_training_signal()\n",
    "                        # This modifies the connectivity\n",
    "                        # self.update_connectivity(train_pulse)\n",
    "\n",
    "                        obs, done = self.env.step(action=train_pulse, tag='train') \n",
    "                        # Log the pattern\n",
    "                        train_logger.writerow([self.time_elapsed(), train_pulse, total_reward, self.episode])\n",
    "                        continue\n",
    "                       \n",
    "                # ================== Training logic ==================\n",
    "                # There would be logic on stimming the training pulse at the proper frequency\n",
    "                if self.verbose:\n",
    "                    print(\"Stimming training neurons with\", train_freq)\n",
    "                    print(\"Training pulse:\", train_pulse)\n",
    "                    print(\"\\tfor\", self.train_period_ms, \"ms\")\n",
    "\n",
    "                \n",
    "                # ================== Exit train phase ==================\n",
    "                # This would happen after the train period is up\n",
    "                self.game_obs = self.game_env.reset()\n",
    "                self.set_sensory_signal(self.game_obs)\n",
    "                total_reward = 0\n",
    "                self.state = 'wait'\n",
    "                just_entered = True\n",
    "                continue\n",
    "\n",
    "                \n",
    "\n",
    "            # ~~~~~~~~~~~~~~~~~~~ Wait phase Logic ~~~~~~~~~~~~~~~~~~~\n",
    "            elif self.state == 'wait':\n",
    "                # There would be logic on waiting for the proper time\n",
    "                obs, done = self.env.step()\n",
    "                if self.verbose:\n",
    "                    print(\"Waiting for\", self.wait_period_ms, \"ms\")\n",
    "                if self.verbose:\n",
    "                    print(\"Episode done\")\n",
    "                self.state = 'read'\n",
    "                just_entered = True\n",
    "                continue\n",
    "\n",
    "\n",
    "        # Close the loggers\n",
    "        game_log.close()\n",
    "        train_log.close()\n",
    "        \n",
    "\n",
    "        return True\n",
    "    \n",
    "    def get_fake_motor_spikes(self):\n",
    "        \n",
    "        # use connectiviy matrix to get the spikes from sensory_stim_Hz\n",
    "        \n",
    "        # sensory_stim_Hz is a vector of shape (len(sensory_neurons),)\n",
    "        # motor spike count is of shape (len(motor_neurons),)\n",
    "        # connectivity is of shape (N, N), where \n",
    "        sub_connectivity = self.connectivity[self.sensory_neurons][:,self.motor_neurons]\n",
    "        # mat mult plus random\n",
    "        motor_spikes = np.dot(self.sensory_stim_Hz, sub_connectivity)*2\n",
    "\n",
    "        # 1/4 power\n",
    "        motor_spikes = motor_spikes ** 0.4\n",
    "\n",
    "        # cast to int\n",
    "        motor_spikes = motor_spikes.astype(int)\n",
    "        # add some noise\n",
    "        motor_spikes += np.random.randint(-2, 3, len(self.motor_neurons))\n",
    "        # clip to 0\n",
    "        motor_spikes = np.clip(motor_spikes, 0, None)\n",
    "        self.motor_spike_rate = motor_spikes\n",
    "        return motor_spikes\n",
    "    \n",
    "    def cause_fake_motor_spikes(self):\n",
    "        self.motor_spike_count = self.get_fake_motor_spikes()\n",
    "        self.motor_spike_rate = self.motor_spike_count / 1000\n",
    "\n",
    "\n",
    "    def get_dummy_causal_connectivity(self):\n",
    "        if self.connectivity is not None:\n",
    "            return self.connectivity\n",
    "        n_strong = 10\n",
    "        # Get unique neurons in sensory and training, since there can be overlap\n",
    "        unique_neurons = np.unique(np.concatenate([self.sensory_neurons, self.training_neurons]))\n",
    "        self.N = len(unique_neurons) + len(self.motor_neurons)\n",
    "        # Create a random connectivity matrix, most are 0-.3, some are >.6\n",
    "        connectivity = np.random.uniform(0, .1, (self.N, self.N))\n",
    "        # connectivity = np.zeros((self.N, self.N))\n",
    "        # pick 5 random indexes and make them >.6\n",
    "        connectivity[np.random.randint(0, self.N, n_strong), np.random.randint(0, self.N, n_strong)] = np.random.uniform(.6, 1, n_strong)\n",
    "        self.connectivity = connectivity\n",
    "        return connectivity\n",
    "\n",
    "\n",
    "\n",
    "    def set_sensory_signal(self, obs):\n",
    "        raise NotImplementedError\n",
    "    \n",
    "    def get_motor_signal(self):\n",
    "        raise NotImplementedError\n",
    "    \n",
    "    def get_training_signal(self):\n",
    "        raise NotImplementedError\n",
    "\n",
    "    def set_sensory_function(self, func):\n",
    "        '''\n",
    "        Set the function to use to map the game observation to the sensory neurons\n",
    "        '''\n",
    "        self.set_sensory_signal = lambda game_env_obs: func(self, game_env_obs)\n",
    "\n",
    "    def set_motor_function(self, func):\n",
    "        '''\n",
    "        Set the function to use to map the motor neurons to the action\n",
    "        '''\n",
    "        self.get_motor_signal = lambda : func(self)\n",
    "\n",
    "    def set_training_function(self, func):\n",
    "        '''\n",
    "        Set the function to use to map the training neurons to the action\n",
    "        '''\n",
    "        self.get_training_signal = lambda : func(self)\n"
   ]
  },
  {
   "cell_type": "code",
   "execution_count": 2,
   "metadata": {},
   "outputs": [],
   "source": [
    "#organoid.connectivity.shape"
   ]
  },
  {
   "cell_type": "markdown",
   "metadata": {},
   "source": [
    "# Playback plots"
   ]
  },
  {
   "cell_type": "code",
   "execution_count": null,
   "metadata": {},
   "outputs": [],
   "source": [
    "def game_plots(glog):\n",
    "    # Plot the agent pos, a different color for each episode\n",
    "    fig, ax = plt.subplots(2, 1, figsize=(10,9))\n",
    "    for episode in glog['episode'].unique():\n",
    "        ep_log = glog[glog['episode'] == episode]\n",
    "        ax[0].plot(ep_log['agent_pos_x'], ep_log['agent_pos_y'], label=f'Episode {episode}')\n",
    "    ax[0].set_xlabel('x')\n",
    "    ax[0].set_ylabel('y')\n",
    "    ax[0].set_title('Agent Position')\n",
    "    # ax[0].legend()\n",
    "\n",
    "    # Plot the reward per episode\n",
    "\n",
    "    reward_for_plots = np.array(glog['reward'], dtype=object)\n",
    "    #ax[1].plot(game_log['reward'])\n",
    "    ax[1].plot(reward_for_plots)\n",
    "    ax[1].set_xlabel('Episode')\n",
    "    ax[1].set_ylabel('Reward')\n",
    "    ax[1].set_title('Reward per Episode')\n",
    "\n",
    "    plt.show()"
   ]
  },
  {
   "cell_type": "code",
   "execution_count": null,
   "metadata": {},
   "outputs": [],
   "source": [
    "def speed_plots(glog):\n",
    "    # Plot turning and forward speed\n",
    "    fig, ax = plt.subplots(2, 1, figsize=(10,9))\n",
    "\n",
    "    turning_speed_for_plots = np.array(glog['turning_speed'], dtype=object)\n",
    "    moving_speed_for_plots = np.array(glog['moving_speed'], dtype=object)\n",
    "\n",
    "    #ax[0].plot(game_log['turning_speed'], label='Turn Speed')\n",
    "    ax[0].plot(turning_speed_for_plots, label='Turn Speed')\n",
    "    ax[0].set_xlabel('Step')\n",
    "    ax[0].set_ylabel('Turn Speed')\n",
    "    ax[0].set_title('Turn Speed')\n",
    "    ax[0].legend()\n",
    "\n",
    "    #ax[1].plot(game_log['moving_speed'], label='Forward Speed')\n",
    "    ax[1].plot(moving_speed_for_plots, label='Forward Speed')\n",
    "    ax[1].set_xlabel('Step')\n",
    "    ax[1].set_ylabel('Forward Speed')\n",
    "    ax[1].set_title('Forward Speed')\n",
    "    ax[1].legend()\n",
    "\n",
    "    plt.show()"
   ]
  },
  {
   "cell_type": "markdown",
   "metadata": {},
   "source": [
    "# Load Data"
   ]
  },
  {
   "cell_type": "markdown",
   "metadata": {},
   "source": [
    "## <font color=\"blue\">Data Loader"
   ]
  },
  {
   "cell_type": "markdown",
   "metadata": {},
   "source": [
    "<font color=\"red\"><b>Warning:</b> This code gets very messy. I do not reccomend reading it. You do not need to know it for the HW."
   ]
  },
  {
   "cell_type": "code",
   "execution_count": null,
   "metadata": {},
   "outputs": [],
   "source": [
    "import io\n",
    "import zipfile\n",
    "from typing import List, Tuple\n",
    "\n",
    "def read_phy_files(path: str, fs=20000.0):\n",
    "    \"\"\"\n",
    "    :param path: a s3 or local path to a zip of phy files.\n",
    "    :return: SpikeData class with a list of spike time lists and neuron_data.\n",
    "            neuron_data = {0: neuron_dict, 1: config_dict}\n",
    "            neuron_dict = {\"new_cluster_id\": {\"channel\": c, \"position\": (x, y),\n",
    "                            \"amplitudes\": [a0, a1, an], \"template\": [t0, t1, tn],\n",
    "                            \"neighbor_channels\": [c0, c1, cn],\n",
    "                            \"neighbor_positions\": [(x0, y0), (x1, y1), (xn,yn)],\n",
    "                            \"neighbor_templates\": [[t00, t01, t0n], [tn0, tn1, tnn]}}\n",
    "            config_dict = {chn: pos}\n",
    "    \"\"\"\n",
    "    assert path[-3:] == 'zip', 'Only zip files supported!'\n",
    "    import braingeneers.utils.smart_open_braingeneers as smart_open\n",
    "    with smart_open.open(path, 'rb') as f0:\n",
    "        f = io.BytesIO(f0.read())\n",
    "\n",
    "        with zipfile.ZipFile(f, 'r') as f_zip:\n",
    "            assert 'params.py' in f_zip.namelist(), \"Wrong spike sorting output.\"\n",
    "            with io.TextIOWrapper(f_zip.open('params.py'), encoding='utf-8') as params:\n",
    "                for line in params:\n",
    "                    if \"sample_rate\" in line:\n",
    "                        fs = float(line.split()[-1])\n",
    "            clusters = np.load(f_zip.open('spike_clusters.npy')).squeeze()\n",
    "            templates = np.load(f_zip.open('templates.npy'))  # (cluster_id, samples, channel_id)\n",
    "            channels = np.load(f_zip.open('channel_map.npy')).squeeze()\n",
    "            templates_w = np.load(f_zip.open('templates.npy'))\n",
    "            wmi = np.load(f_zip.open('whitening_mat_inv.npy'))\n",
    "            spike_templates = np.load(f_zip.open('spike_templates.npy')).squeeze()\n",
    "            spike_times = np.load(f_zip.open('spike_times.npy')).squeeze() / fs * 1e3  # in ms\n",
    "            positions = np.load(f_zip.open('channel_positions.npy'))\n",
    "            amplitudes = np.load(f_zip.open(\"amplitudes.npy\")).squeeze()\n",
    "            if 'cluster_info.tsv' in f_zip.namelist():\n",
    "                cluster_info = pd.read_csv(f_zip.open('cluster_info.tsv'), sep='\\t')\n",
    "                cluster_id = np.array(cluster_info['cluster_id'])\n",
    "                # select clusters using curation label, remove units labeled as \"noise\"\n",
    "                # find the best channel by amplitude\n",
    "                labeled_clusters = cluster_id[cluster_info['group'] != \"noise\"]\n",
    "            else:\n",
    "                labeled_clusters = np.unique(clusters)\n",
    "\n",
    "    df = pd.DataFrame({\"clusters\": clusters, \"spikeTimes\": spike_times, \"amplitudes\": amplitudes})\n",
    "    cluster_agg = df.groupby(\"clusters\").agg({\"spikeTimes\": lambda x: list(x),\n",
    "                                              \"amplitudes\": lambda x: list(x)})\n",
    "    cluster_agg = cluster_agg[cluster_agg.index.isin(labeled_clusters)]\n",
    "\n",
    "    cls_temp = dict(zip(clusters, spike_templates))\n",
    "    neuron_dict = dict.fromkeys(np.arange(len(labeled_clusters)), None)\n",
    "\n",
    "    # un-whitten the templates before finding the best channel\n",
    "    templates = np.dot(templates_w, wmi)\n",
    "\n",
    "    neuron_attributes = []\n",
    "    for i in range(len(labeled_clusters)):\n",
    "        c = labeled_clusters[i]\n",
    "        temp = templates[cls_temp[c]]\n",
    "        amp = np.max(temp, axis=0) - np.min(temp, axis=0)\n",
    "        sorted_idx = [ind for _, ind in sorted(zip(amp, np.arange(len(amp))))]\n",
    "        nbgh_chan_idx = sorted_idx[::-1][:12]\n",
    "        nbgh_temps = temp.transpose()[nbgh_chan_idx]\n",
    "        best_chan_temp = nbgh_temps[0]\n",
    "        nbgh_channels = channels[nbgh_chan_idx]\n",
    "        nbgh_postions = [tuple(positions[idx]) for idx in nbgh_chan_idx]\n",
    "        best_channel = nbgh_channels[0]\n",
    "        best_position = nbgh_postions[0]\n",
    "        # neighbor_templates = dict(zip(nbgh_postions, nbgh_temps))\n",
    "        cls_amp = cluster_agg[\"amplitudes\"][c]\n",
    "        neuron_dict[i] = {\"cluster_id\": c, \"channel\": best_channel, \"position\": best_position,\n",
    "                          \"amplitudes\": cls_amp, \"template\": best_chan_temp,\n",
    "                          \"neighbor_channels\": nbgh_channels, \"neighbor_positions\": nbgh_postions,\n",
    "                          \"neighbor_templates\": nbgh_temps}\n",
    "        neuron_attributes.append(\n",
    "            NeuronAttributes(\n",
    "                cluster_id=c,\n",
    "                channel=best_channel,\n",
    "                position=best_position,\n",
    "                amplitudes=cluster_agg[\"amplitudes\"][c],\n",
    "                template=best_chan_temp,\n",
    "                templates=templates[cls_temp[c]].T,\n",
    "                label=cluster_info['group'][cluster_info['cluster_id'] == c].values[0],\n",
    "                neighbor_channels=channels[nbgh_chan_idx],\n",
    "                neighbor_positions=[tuple(positions[idx]) for idx in nbgh_chan_idx],\n",
    "                neighbor_templates=[templates[cls_temp[c]].T[n] for n in nbgh_chan_idx]\n",
    "            )\n",
    "        )\n",
    "\n",
    "    config_dict = dict(zip(channels, positions))\n",
    "    neuron_data = {0: neuron_dict}\n",
    "    metadata = {0: config_dict}\n",
    "    spikedata = SpikeData(list(cluster_agg[\"spikeTimes\"]), neuron_data=neuron_data, metadata=metadata, neuron_attributes=neuron_attributes)\n",
    "    return spikedata\n",
    "\n",
    "class NeuronAttributes:\n",
    "    cluster_id: int\n",
    "    channel: np.ndarray\n",
    "    position: Tuple[float, float]\n",
    "    amplitudes: List[float]\n",
    "    template: np.ndarray\n",
    "    templates: np.ndarray\n",
    "    label: str\n",
    "\n",
    "    # These lists are the same length and correspond to each other\n",
    "    neighbor_channels: np.ndarray\n",
    "    neighbor_positions: List[Tuple[float, float]]\n",
    "    neighbor_templates: List[np.ndarray]\n",
    "\n",
    "    def __init__(self, *args, **kwargs):\n",
    "        self.cluster_id = kwargs.pop(\"cluster_id\")\n",
    "        self.channel = kwargs.pop(\"channel\")\n",
    "        self.position = kwargs.pop(\"position\")\n",
    "        self.amplitudes = kwargs.pop(\"amplitudes\")\n",
    "        self.template = kwargs.pop(\"template\")\n",
    "        self.templates = kwargs.pop(\"templates\")\n",
    "        self.label = kwargs.pop(\"label\")\n",
    "        self.neighbor_channels = kwargs.pop(\"neighbor_channels\")\n",
    "        self.neighbor_positions = kwargs.pop(\"neighbor_positions\")\n",
    "        self.neighbor_templates = kwargs.pop(\"neighbor_templates\")\n",
    "        for key, value in kwargs.items():\n",
    "            setattr(self, key, value)\n",
    "\n",
    "    def add_attribute(self, key, value):\n",
    "        setattr(self, key, value)\n",
    "\n",
    "    def list_attributes(self):\n",
    "        return [attr for attr in dir(self) if not attr.startswith('__') and not callable(getattr(self, attr))]"
   ]
  },
  {
   "cell_type": "markdown",
   "metadata": {},
   "source": [
    "## Load Data"
   ]
  },
  {
   "cell_type": "code",
   "execution_count": null,
   "metadata": {},
   "outputs": [],
   "source": [
    "### Current method for loading data (doesn't work)\n",
    "braingeneers.set_default_endpoint(\"/home/jovyan/data/ephys/2023-08-28-e-Math_Mind_Class/HW3-Experiment\")\n",
    "#sd = load_spike_data(uuid=\"2023-08-28-e-Math_Mind_Class\",\n",
    "#                     full_path=\"/home/jovyan/data/ephys/2023-08-28-e-Math_Mind_Class/HW3-Experiment/ephys/2022-04-28-e-/derived/kilosort2/Trace_20220428_15_52_47_chip11350_curated.zip\")\n",
    "metadata = ephys.load_metadata('2022-04-28-e-')"
   ]
  },
  {
   "cell_type": "markdown",
   "metadata": {},
   "source": [
    "Get 2D layout of all electrodes"
   ]
  },
  {
   "cell_type": "code",
   "execution_count": null,
   "metadata": {},
   "outputs": [],
   "source": [
    "connectoid = read_phy_files(\"/home/jovyan/data/ephys/2023-08-28-e-Math_Mind_Class/HW3-Experiment/ephys/2022-04-28-e-/derived/kilosort2/Trace_20220428_15_52_47_chip11350_curated.zip\")"
   ]
  },
  {
   "cell_type": "code",
   "execution_count": null,
   "metadata": {},
   "outputs": [],
   "source": [
    "electrode_mapping = pd.DataFrame( metadata['ephys_experiments']['Trace_20220428_15_52_47_chip11350']['mapping'],\n",
    "                                  columns=['channel','electrode','x','y'] )"
   ]
  },
  {
   "cell_type": "markdown",
   "metadata": {},
   "source": [
    "# <font color=\"blue\"> Pretty Raster Plotter"
   ]
  },
  {
   "cell_type": "markdown",
   "metadata": {},
   "source": [
    "Detailed raster plot function, allows for specified zooms and window frames"
   ]
  },
  {
   "cell_type": "code",
   "execution_count": null,
   "metadata": {},
   "outputs": [],
   "source": [
    "def plot_raster(sd, title=\"Spike Raster\", l1=-10, l2=False, xsize=10, ysize=6, analize=False):\n",
    "    \"\"\"\n",
    "    Plots a configuable raster plot of the spike data.\n",
    "        sd : spike data object from braingeneers\n",
    "        title : Title of the plot\n",
    "        l1 : start time in seconds\n",
    "        l2 : end time in seconds\n",
    "        xsize : width of the plot\n",
    "        ysize : height of the plot\n",
    "        analize : If True, will plot the population rate as well\n",
    "    \"\"\"\n",
    "\n",
    "    if l2==False:\n",
    "        l2 = sd.length / 1000 + 10\n",
    "    \n",
    "    idces, times = sd.idces_times()\n",
    "    \n",
    "    if analize == True:\n",
    "        # Get population rate for everything\n",
    "        pop_rate = sd.binned(bin_size=1)  # in ms\n",
    "        # Lets smooth this to make it neater\n",
    "        sigma = 5\n",
    "        pop_rate_smooth = gaussian_filter1d(pop_rate.astype(float), sigma=sigma)\n",
    "        t = np.linspace(0, sd.length, pop_rate.shape[0]) / 1000\n",
    "\n",
    "        # Determine the stop_time if it's not provided\n",
    "        if l2 is None:\n",
    "            l2 = t[-1]\n",
    "\n",
    "        # Filter times and idces within the specified start and stop times\n",
    "        mask = (times >= l1 * 1000) & (times <= l2 * 1000)\n",
    "        times = times[mask]\n",
    "        idces = idces[mask]\n",
    "\n",
    "    fig, ax = plt.subplots(figsize=(xsize, ysize))\n",
    "    fig.suptitle(title)\n",
    "    ax.scatter(times/1000,idces,marker='|',s=1)\n",
    "    \n",
    "    if analize == True:\n",
    "        ax2 = ax.twinx()\n",
    "        ax2.plot(t, pop_rate_smooth, c='r')\n",
    "        ax2.set_ylabel('Firing Rate')\n",
    "        \n",
    "    ax.set_xlabel(\"Time(s)\")\n",
    "    ax.set_ylabel('Unit #')\n",
    "    plt.xlim(l1, l2)\n",
    "    plt.show()"
   ]
  },
  {
   "cell_type": "code",
   "execution_count": null,
   "metadata": {},
   "outputs": [],
   "source": [
    "# plot_raster(connectoid, title=\"example raster\")"
   ]
  },
  {
   "cell_type": "markdown",
   "metadata": {},
   "source": [
    "# <font color=\"blue\">electrode_layout</font> "
   ]
  },
  {
   "cell_type": "markdown",
   "metadata": {},
   "source": [
    "plots the placement of all the recording electrodes"
   ]
  },
  {
   "cell_type": "code",
   "execution_count": null,
   "metadata": {},
   "outputs": [],
   "source": [
    "def electrodeLayout():\n",
    "    x = electrode_mapping.x.values\n",
    "    y = electrode_mapping.y.values\n",
    "\n",
    "    plt.scatter(x,y,s=2)\n",
    "    plt.xlabel('um')\n",
    "    plt.ylabel('um')\n",
    "    plt.title(\"electrode layout\")\n",
    "    plt.show()"
   ]
  },
  {
   "cell_type": "code",
   "execution_count": null,
   "metadata": {},
   "outputs": [],
   "source": [
    "#electrodeLayout()"
   ]
  },
  {
   "cell_type": "markdown",
   "metadata": {},
   "source": [
    "# <font color=\"blue\">neuronLayout</font> "
   ]
  },
  {
   "cell_type": "markdown",
   "metadata": {},
   "source": [
    "Plots the putative neural units found from spike sorting"
   ]
  },
  {
   "cell_type": "code",
   "execution_count": null,
   "metadata": {},
   "outputs": [],
   "source": [
    "def neuronLayout(sd):\n",
    "    x = electrode_mapping.x.values\n",
    "    y = electrode_mapping.y.values\n",
    "\n",
    "    plt.scatter(x,y,s=2)\n",
    "\n",
    "    neuron_x = []\n",
    "    neuron_y = []\n",
    "    neuron_amp = []\n",
    "    for neuron in sd.neuron_attributes:\n",
    "    #     print(\"x,y:\",neuron['position'])\n",
    "        neuron_x.append(neuron.position[0])\n",
    "        neuron_y.append(neuron.position[1])\n",
    "        neuron_amp.append(np.mean(neuron.amplitudes))\n",
    "\n",
    "    plt.scatter(neuron_x,neuron_y,s=neuron_amp,c='r')\n",
    "    plt.xlabel('um')\n",
    "    plt.ylabel('um')\n",
    "    plt.title(\"electrode layout\")\n",
    "    plt.show()"
   ]
  },
  {
   "cell_type": "code",
   "execution_count": null,
   "metadata": {},
   "outputs": [],
   "source": [
    "#neuronLayout(connectoid)"
   ]
  },
  {
   "cell_type": "markdown",
   "metadata": {},
   "source": [
    "# <font color=\"blue\">sttcLayout"
   ]
  },
  {
   "cell_type": "markdown",
   "metadata": {},
   "source": [
    "Show which neurons are connected via spike time tiling"
   ]
  },
  {
   "cell_type": "code",
   "execution_count": null,
   "metadata": {},
   "outputs": [],
   "source": [
    "def sttcLayout( sd, threshold ):\n",
    "    # Lets bring back our graph, and overlay these as connectivity lines\n",
    "\n",
    "    sttc = sd.spike_time_tilings()\n",
    "    # electrodes\n",
    "    x = electrode_mapping.x.values\n",
    "    y = electrode_mapping.y.values\n",
    "    neuron_x = []\n",
    "    neuron_y = []\n",
    "    neuron_amp = []\n",
    "    for neuron in sd.neuron_attributes:\n",
    "        #     print(\"x,y:\",neuron['position'])\n",
    "        neuron_x.append(neuron.position[0])\n",
    "        neuron_y.append(neuron.position[1])\n",
    "        neuron_amp.append(np.mean(neuron.amplitudes))\n",
    "    \n",
    "    plt.figure(figsize=(15,6))\n",
    "    plt.subplot(1, 2, 1)\n",
    "    plt.scatter(x,y,s=2)\n",
    "    # Neurons\n",
    "    plt.scatter(neuron_x,neuron_y,s=neuron_amp,c='r')\n",
    "\n",
    "    # Now lines for each neuron if above threshhold\n",
    "    for i in range(sttc.shape[0]):\n",
    "        for j in range(sttc.shape[1]):\n",
    "\n",
    "            # Only need to do upper triangle since sttc' = sttc\n",
    "            if i<=j: continue\n",
    "\n",
    "            if sttc[i,j] < threshold : continue\n",
    "\n",
    "            #Position of neuron i\n",
    "            ix,iy = sd.neuron_attributes[i].position\n",
    "            jx,jy = sd.neuron_attributes[j].position\n",
    "\n",
    "            # Plot line between the points, linewidth is the sttc\n",
    "            plt.plot([ix,jx],[iy,jy], linewidth=sttc[i,j],c='k')\n",
    "\n",
    "    plt.xlabel('um')\n",
    "    plt.ylabel('um')\n",
    "    plt.title(\"electrode layout\")\n",
    "    \n",
    "    \n",
    "\n",
    "    plt.subplot(1, 2, 2)\n",
    "    sttc[sttc<threshold ] = 0\n",
    "    plt.imshow(sttc,vmin=0,vmax=1)\n",
    "    plt.colorbar()\n",
    "    plt.title(\"Spike Time Tiling\")\n",
    "    plt.show()"
   ]
  },
  {
   "cell_type": "code",
   "execution_count": null,
   "metadata": {},
   "outputs": [],
   "source": [
    "#sttcLayout(connectoid, .8)"
   ]
  },
  {
   "cell_type": "markdown",
   "metadata": {},
   "source": [
    "# <font color=\"blue\">Latency Plots"
   ]
  },
  {
   "cell_type": "markdown",
   "metadata": {},
   "source": [
    "Displays two plots. The left plot shows which two points the latencies are being calculated between. The right plot is a histogram of all the latencies between the points.\n"
   ]
  },
  {
   "cell_type": "code",
   "execution_count": null,
   "metadata": {},
   "outputs": [],
   "source": [
    "def latencyPlots(sd, neuron1, neuron2):\n",
    "    \n",
    "    # Create plot of neural units with selected neurons for latency calculation in green\n",
    "    plt.figure(figsize=(15,6))\n",
    "    plt.subplot(1, 2, 1)\n",
    "    \n",
    "    x = electrode_mapping.x.values\n",
    "    y = electrode_mapping.y.values\n",
    "    plt.scatter(x,y,s=2)\n",
    "\n",
    "    neuron_x = []\n",
    "    neuron_y = []\n",
    "    neuron_amp = []\n",
    "    for neuron in sd.neuron_attributes:\n",
    "    #     print(\"x,y:\",neuron['position'])\n",
    "        neuron_x.append(neuron.position[0])\n",
    "        neuron_y.append(neuron.position[1])\n",
    "        neuron_amp.append(np.mean(neuron.amplitudes))\n",
    "\n",
    "    plt.scatter(neuron_x,neuron_y,s=neuron_amp,c='r')\n",
    "    plt.scatter(neuron_x,neuron_y,s=neuron_amp,c='r')\n",
    "\n",
    "    plt.scatter([neuron_x[neuron1]],[neuron_y[neuron1]],s=70,c='g')\n",
    "    plt.scatter([neuron_x[neuron2]],[neuron_y[neuron2]],s=70,c='g')\n",
    "\n",
    "    plt.xlabel('um')\n",
    "    plt.ylabel('um')\n",
    "    plt.title(\"electrode layout\")\n",
    "    #plt.show()\n",
    "    \n",
    "    # Plot Histogram of latencies\n",
    "    plt.subplot(1, 2, 2)\n",
    "    lates_n1 = sd.latencies_to_index(neuron1)\n",
    "    lates_raw = lates_n1[neuron2]\n",
    "    lates =  list(filter(lambda x: x < 10 and x > -10, lates_raw ))\n",
    "    plt.hist(lates,bins=8)\n",
    "    #plt.xlim([-25,25])\n",
    "    print(\"Mean Latency: \", np.mean(lates) )\n",
    "    print(\"Number of Latencies: \", len(lates))\n",
    "    plt.show()"
   ]
  },
  {
   "cell_type": "markdown",
   "metadata": {},
   "source": [
    "# <font color=\"blue\">Stim Pulses"
   ]
  },
  {
   "cell_type": "markdown",
   "metadata": {},
   "source": [
    "## <font color=\"red\">Legacy"
   ]
  },
  {
   "cell_type": "markdown",
   "metadata": {},
   "source": [
    "Prebuilt function used to plot the square wave stimulation example shown in the notebook :"
   ]
  },
  {
   "cell_type": "code",
   "execution_count": 1,
   "metadata": {},
   "outputs": [],
   "source": [
    "def plotPulse():\n",
    "    t,signal =  getTimeSignal(60)\n",
    "    signal = squareWave( signal, time_s=1, phase_us=200, amp_mV=150 )\n",
    "\n",
    "    plt.plot(t,signal)\n",
    "    plt.xlim([.998,1.002])\n",
    "    plt.xlabel('seconds')\n",
    "    plt.ylabel('Voltage (mv)')\n",
    "    plt.show()"
   ]
  },
  {
   "cell_type": "markdown",
   "metadata": {},
   "source": [
    "## <font color=\"blue\"> General Stim Functions"
   ]
  },
  {
   "cell_type": "code",
   "execution_count": null,
   "metadata": {},
   "outputs": [],
   "source": [
    "def plotStimPattern(signal,t):\n",
    "    plt.plot(t,signal.T)\n",
    "    plt.legend(['n0','n1','n2'])\n",
    "    plt.xlabel('seconds')\n",
    "    plt.ylabel('Voltage (mv)')\n",
    "    plt.title(\"Stim Pattern over 1 Second\")\n",
    "    plt.show()"
   ]
  },
  {
   "cell_type": "code",
   "execution_count": null,
   "metadata": {},
   "outputs": [],
   "source": [
    "def plotIndividualPatterns(signal,t):\n",
    "    names=[\"n0\",\"n1\",\"n2\"]\n",
    "    color=[\"b\",\"#F97306\",\"g\"]\n",
    "    plt.figure(figsize=(16,4))\n",
    "    for i in range(3):\n",
    "        plt.subplot(1, 3, i+1)\n",
    "        plt.plot(t,signal[i], color=color[i])\n",
    "        plt.legend([f\"n{i}\"])\n",
    "        plt.ylabel('Voltage (mv)')\n",
    "        plt.xlabel('seconds')\n",
    "        plt.show"
   ]
  },
  {
   "cell_type": "markdown",
   "metadata": {},
   "source": [
    "A helper function used in `create_stim_pulse_sequence`"
   ]
  },
  {
   "cell_type": "code",
   "execution_count": null,
   "metadata": {},
   "outputs": [],
   "source": [
    "def insert_square_wave_advanced(sig,time,phase_length=20, amplitude=1):\n",
    "    '''Deflects positively at *time* for 20 samples (1ms) then deflects negatively for 20 samples, \n",
    "    then returns to normal'''\n",
    "    sig[time:time+phase_length] = amplitude\n",
    "    sig[time+phase_length:time+phase_length*2] = -amplitude\n",
    "    return sig"
   ]
  },
  {
   "cell_type": "markdown",
   "metadata": {},
   "source": [
    "Main function used to create stim pulse sequences :"
   ]
  },
  {
   "cell_type": "code",
   "execution_count": null,
   "metadata": {},
   "outputs": [],
   "source": [
    "def create_stim_pulse_sequence(stim_list, freq_Hz=None, time_arr = None,max_time_s = 1):\n",
    "    \"\"\"\n",
    "    Creates a stim pulse sequence, parallels the real code that will run on the Maxwell\n",
    "    \n",
    "    Params:\n",
    "    stim_list - list of tuples indicating the commands to run\n",
    "            ------------------------------------------------\n",
    "            For 'stim' command:\n",
    "            ('stim', [neuron inds], mv, us per phase)\n",
    "\n",
    "            For 'delay'\n",
    "            ('delay', frames_delay)\n",
    "            \n",
    "            For 'next'\n",
    "            ('next', None)\n",
    "            This command acts as a placeholder to move to the next timepoint in the time_arr or the next\n",
    "            period triggered by the freq_Hz\n",
    "            -------------------------------------------------\n",
    "    freq_Hz - frequency to call the top stim_list in\n",
    "            *Note* this takes priority over time_arr\n",
    "    time_arr - array of time values that will be when the stimulations occur in order\n",
    "    \n",
    "    max_time_s - time in seconds to stimulate\n",
    "    \n",
    "    \n",
    "    Returns:\n",
    "    sig - np.array -- shape=(n_neurons, timesteps) of what the signal will look like\n",
    "    t - np.array   -- shape=(timesteps) of time in seconds\n",
    "    \"\"\"\n",
    "    \n",
    "    # Since this is fake, only parallels the code on the device,\n",
    "    # We have to make our own time\n",
    "    # And simulate what the stimulation will look like\n",
    "    \n",
    "    # Conversion paramerters\n",
    "    fs_ms = 20 # Good for converting frames to ms\n",
    "    fs_us = .2\n",
    "    \n",
    "    # stim list\n",
    "    seq = ('next',None)\n",
    "    stim_list.append(seq)\n",
    "    stim_list=stim_list*freq_Hz\n",
    "    \n",
    "    # Setup\n",
    "    fs = 20000\n",
    "    n_neurons = 3\n",
    "    t = np.arange(0,fs*max_time_s)/fs\n",
    "    sig = np.zeros(shape=(n_neurons,t.shape[0]))\n",
    "    \n",
    "    \n",
    "    # This would be generated in *real time*\n",
    "    if freq_Hz is not None:\n",
    "        # Until the time is right to stimulation the sequence\n",
    "        for time in t[::fs//freq_Hz]:\n",
    "            time_frames = int(time*fs)\n",
    "            \n",
    "            \n",
    "            if len(stim_list) == 0:\n",
    "                return sig\n",
    "            \n",
    "            #Build the sequence\n",
    "            command = None\n",
    "            \n",
    "            while (command != 'next'):\n",
    "                command, *params = stim_list.pop(0) # Get first thing off list\n",
    "                if command == 'stim':\n",
    "                    neurons, amplitude, phase_length = params\n",
    "                    phase_length = int(phase_length*fs_us)\n",
    "                    \n",
    "                    # Change signal for each neuron\n",
    "                    for n in neurons:\n",
    "                        sig[n,:] = insert_square_wave_advanced(sig[n,:],time_frames,phase_length, amplitude=amplitude)\n",
    "                    time_frames += phase_length*2\n",
    "                    \n",
    "                if command == 'delay':\n",
    "                    time_frames += fs_ms*params[0]\n",
    "                    \n",
    "                #double checking here\n",
    "                if command == 'next':\n",
    "                    break \n",
    "                    \n",
    "        return sig,t"
   ]
  },
  {
   "cell_type": "markdown",
   "metadata": {},
   "source": [
    "Example"
   ]
  },
  {
   "cell_type": "code",
   "execution_count": 2,
   "metadata": {},
   "outputs": [],
   "source": [
    "# stim_pattern = []\n",
    "# stim_pattern.append(('stim',[0],150,200))\n",
    "# stim_pattern.append(('delay',20))\n",
    "# stim_pattern.append(('stim',[1],200,20))\n",
    "# #stim_pattern.append(('delay',250))\n",
    "# #stim_pattern.append(('stim',[0,1,2],150,20))\n",
    "# signal,t = create_stim_pulse_sequence(stim_pattern, freq_Hz=1)"
   ]
  },
  {
   "cell_type": "markdown",
   "metadata": {},
   "source": [
    "# <font color=\"red\">Bookend"
   ]
  },
  {
   "cell_type": "code",
   "execution_count": null,
   "metadata": {},
   "outputs": [],
   "source": [
    "now = datetime.now(Timezone)\n",
    "printNow = now.strftime(\"%Y/%m/%d %H:%M:%S\")\n",
    "\n",
    "print(f\"Done at: {printNow}\")"
   ]
  }
 ],
 "metadata": {
  "kernelspec": {
   "display_name": "Python 3",
   "language": "python",
   "name": "python3"
  },
  "language_info": {
   "codemirror_mode": {
    "name": "ipython",
    "version": 3
   },
   "file_extension": ".py",
   "mimetype": "text/x-python",
   "name": "python",
   "nbconvert_exporter": "python",
   "pygments_lexer": "ipython3",
   "version": "3.11.5"
  }
 },
 "nbformat": 4,
 "nbformat_minor": 2
}
